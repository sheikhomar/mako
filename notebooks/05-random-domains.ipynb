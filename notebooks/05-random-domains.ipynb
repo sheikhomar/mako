{
 "cells": [
  {
   "cell_type": "markdown",
   "metadata": {},
   "source": [
    "# Detecting Random Domain Names"
   ]
  },
  {
   "cell_type": "code",
   "execution_count": 1,
   "metadata": {
    "collapsed": true
   },
   "outputs": [],
   "source": [
    "import numpy as np\n",
    "import pandas as pd\n",
    "import matplotlib.pyplot as plt\n",
    "import seaborn as sns\n",
    "import glob\n",
    "\n",
    "%matplotlib inline\n",
    "\n",
    "plt.style.use('seaborn-whitegrid')\n",
    "\n",
    "SMALL_SIZE = 14\n",
    "MEDIUM_SIZE = 18\n",
    "BIGGER_SIZE = 22\n",
    "\n",
    "plt.rc('font', size=SMALL_SIZE)          # controls default text sizes\n",
    "plt.rc('axes', titlesize=SMALL_SIZE)     # fontsize of the axes title\n",
    "plt.rc('axes', labelsize=MEDIUM_SIZE)    # fontsize of the x and y labels\n",
    "plt.rc('xtick', labelsize=SMALL_SIZE)    # fontsize of the tick labels\n",
    "plt.rc('ytick', labelsize=SMALL_SIZE)    # fontsize of the tick labels\n",
    "plt.rc('legend', fontsize=MEDIUM_SIZE)   # legend fontsize\n",
    "plt.rc('figure', titlesize=BIGGER_SIZE)  # fontsize of the figure title"
   ]
  },
  {
   "cell_type": "code",
   "execution_count": 2,
   "metadata": {
    "collapsed": false
   },
   "outputs": [],
   "source": [
    "paths = glob.glob('../data/external/agg-alexa-entropy.gz')\n",
    "column_names = ['domain', 'entropy', 'ideal_entropy']\n",
    "df = pd.read_csv('../data/external/agg-alexa-entropy.gz', names=column_names)"
   ]
  },
  {
   "cell_type": "markdown",
   "metadata": {},
   "source": [
    "Create a new column where entry is rounded."
   ]
  },
  {
   "cell_type": "code",
   "execution_count": 3,
   "metadata": {
    "collapsed": true
   },
   "outputs": [],
   "source": [
    "df['entropy_rnd'] = df['entropy'].round(2)"
   ]
  },
  {
   "cell_type": "code",
   "execution_count": 4,
   "metadata": {
    "collapsed": false
   },
   "outputs": [
    {
     "data": {
      "text/html": [
       "<div>\n",
       "<table border=\"1\" class=\"dataframe\">\n",
       "  <thead>\n",
       "    <tr style=\"text-align: right;\">\n",
       "      <th></th>\n",
       "      <th>domain</th>\n",
       "      <th>entropy</th>\n",
       "      <th>ideal_entropy</th>\n",
       "      <th>entropy_rnd</th>\n",
       "    </tr>\n",
       "  </thead>\n",
       "  <tbody>\n",
       "    <tr>\n",
       "      <th>0</th>\n",
       "      <td>999.md</td>\n",
       "      <td>-0.0</td>\n",
       "      <td>1.584963</td>\n",
       "      <td>-0.0</td>\n",
       "    </tr>\n",
       "    <tr>\n",
       "      <th>1</th>\n",
       "      <td>www.ch</td>\n",
       "      <td>-0.0</td>\n",
       "      <td>1.584963</td>\n",
       "      <td>-0.0</td>\n",
       "    </tr>\n",
       "    <tr>\n",
       "      <th>2</th>\n",
       "      <td>55.cc</td>\n",
       "      <td>-0.0</td>\n",
       "      <td>1.000000</td>\n",
       "      <td>-0.0</td>\n",
       "    </tr>\n",
       "    <tr>\n",
       "      <th>3</th>\n",
       "      <td>j.mp</td>\n",
       "      <td>-0.0</td>\n",
       "      <td>-0.000000</td>\n",
       "      <td>-0.0</td>\n",
       "    </tr>\n",
       "    <tr>\n",
       "      <th>4</th>\n",
       "      <td>n.nu</td>\n",
       "      <td>-0.0</td>\n",
       "      <td>-0.000000</td>\n",
       "      <td>-0.0</td>\n",
       "    </tr>\n",
       "  </tbody>\n",
       "</table>\n",
       "</div>"
      ],
      "text/plain": [
       "   domain  entropy  ideal_entropy  entropy_rnd\n",
       "0  999.md     -0.0       1.584963         -0.0\n",
       "1  www.ch     -0.0       1.584963         -0.0\n",
       "2   55.cc     -0.0       1.000000         -0.0\n",
       "3    j.mp     -0.0      -0.000000         -0.0\n",
       "4    n.nu     -0.0      -0.000000         -0.0"
      ]
     },
     "execution_count": 4,
     "metadata": {},
     "output_type": "execute_result"
    }
   ],
   "source": [
    "df.head()"
   ]
  },
  {
   "cell_type": "code",
   "execution_count": 5,
   "metadata": {
    "collapsed": false,
    "scrolled": true
   },
   "outputs": [
    {
     "name": "stdout",
     "output_type": "stream",
     "text": [
      "<class 'pandas.core.frame.DataFrame'>\n",
      "RangeIndex: 4049929 entries, 0 to 4049928\n",
      "Data columns (total 4 columns):\n",
      "domain           object\n",
      "entropy          float64\n",
      "ideal_entropy    float64\n",
      "entropy_rnd      float64\n",
      "dtypes: float64(3), object(1)\n",
      "memory usage: 123.6+ MB\n"
     ]
    }
   ],
   "source": [
    "df.info()"
   ]
  },
  {
   "cell_type": "code",
   "execution_count": 6,
   "metadata": {
    "collapsed": false,
    "scrolled": true
   },
   "outputs": [
    {
     "data": {
      "text/html": [
       "<div>\n",
       "<table border=\"1\" class=\"dataframe\">\n",
       "  <thead>\n",
       "    <tr style=\"text-align: right;\">\n",
       "      <th></th>\n",
       "      <th>domain</th>\n",
       "      <th>entropy</th>\n",
       "      <th>ideal_entropy</th>\n",
       "      <th>entropy_rnd</th>\n",
       "    </tr>\n",
       "  </thead>\n",
       "  <tbody>\n",
       "    <tr>\n",
       "      <th>122526</th>\n",
       "      <td>google.com</td>\n",
       "      <td>1.918296</td>\n",
       "      <td>2.584963</td>\n",
       "      <td>1.92</td>\n",
       "    </tr>\n",
       "  </tbody>\n",
       "</table>\n",
       "</div>"
      ],
      "text/plain": [
       "            domain   entropy  ideal_entropy  entropy_rnd\n",
       "122526  google.com  1.918296       2.584963         1.92"
      ]
     },
     "execution_count": 6,
     "metadata": {},
     "output_type": "execute_result"
    }
   ],
   "source": [
    "df[df['domain'] == 'google.com']"
   ]
  },
  {
   "cell_type": "markdown",
   "metadata": {},
   "source": [
    "## Filter out IDNs"
   ]
  },
  {
   "cell_type": "code",
   "execution_count": 7,
   "metadata": {
    "collapsed": true
   },
   "outputs": [],
   "source": [
    "df_filtered = df[~df['domain'].str.startswith('xn--')]"
   ]
  },
  {
   "cell_type": "code",
   "execution_count": 8,
   "metadata": {
    "collapsed": false
   },
   "outputs": [
    {
     "data": {
      "text/html": [
       "<div>\n",
       "<table border=\"1\" class=\"dataframe\">\n",
       "  <thead>\n",
       "    <tr style=\"text-align: right;\">\n",
       "      <th></th>\n",
       "      <th>entropy</th>\n",
       "      <th>ideal_entropy</th>\n",
       "      <th>entropy_rnd</th>\n",
       "    </tr>\n",
       "  </thead>\n",
       "  <tbody>\n",
       "    <tr>\n",
       "      <th>count</th>\n",
       "      <td>4.036467e+06</td>\n",
       "      <td>4.036467e+06</td>\n",
       "      <td>4.036467e+06</td>\n",
       "    </tr>\n",
       "    <tr>\n",
       "      <th>mean</th>\n",
       "      <td>2.913804e+00</td>\n",
       "      <td>3.367798e+00</td>\n",
       "      <td>2.913679e+00</td>\n",
       "    </tr>\n",
       "    <tr>\n",
       "      <th>std</th>\n",
       "      <td>5.125407e-01</td>\n",
       "      <td>6.541539e-01</td>\n",
       "      <td>5.127448e-01</td>\n",
       "    </tr>\n",
       "    <tr>\n",
       "      <th>min</th>\n",
       "      <td>-0.000000e+00</td>\n",
       "      <td>-0.000000e+00</td>\n",
       "      <td>-0.000000e+00</td>\n",
       "    </tr>\n",
       "    <tr>\n",
       "      <th>25%</th>\n",
       "      <td>2.584963e+00</td>\n",
       "      <td>3.000000e+00</td>\n",
       "      <td>2.580000e+00</td>\n",
       "    </tr>\n",
       "    <tr>\n",
       "      <th>50%</th>\n",
       "      <td>2.947703e+00</td>\n",
       "      <td>3.321928e+00</td>\n",
       "      <td>2.950000e+00</td>\n",
       "    </tr>\n",
       "    <tr>\n",
       "      <th>75%</th>\n",
       "      <td>3.272906e+00</td>\n",
       "      <td>3.807355e+00</td>\n",
       "      <td>3.270000e+00</td>\n",
       "    </tr>\n",
       "    <tr>\n",
       "      <th>max</th>\n",
       "      <td>4.700440e+00</td>\n",
       "      <td>6.129283e+00</td>\n",
       "      <td>4.700000e+00</td>\n",
       "    </tr>\n",
       "  </tbody>\n",
       "</table>\n",
       "</div>"
      ],
      "text/plain": [
       "            entropy  ideal_entropy   entropy_rnd\n",
       "count  4.036467e+06   4.036467e+06  4.036467e+06\n",
       "mean   2.913804e+00   3.367798e+00  2.913679e+00\n",
       "std    5.125407e-01   6.541539e-01  5.127448e-01\n",
       "min   -0.000000e+00  -0.000000e+00 -0.000000e+00\n",
       "25%    2.584963e+00   3.000000e+00  2.580000e+00\n",
       "50%    2.947703e+00   3.321928e+00  2.950000e+00\n",
       "75%    3.272906e+00   3.807355e+00  3.270000e+00\n",
       "max    4.700440e+00   6.129283e+00  4.700000e+00"
      ]
     },
     "execution_count": 8,
     "metadata": {},
     "output_type": "execute_result"
    }
   ],
   "source": [
    "df_filtered.describe()"
   ]
  },
  {
   "cell_type": "code",
   "execution_count": 9,
   "metadata": {
    "collapsed": false
   },
   "outputs": [
    {
     "name": "stdout",
     "output_type": "stream",
     "text": [
      "<class 'pandas.core.frame.DataFrame'>\n",
      "Int64Index: 4036467 entries, 0 to 4049907\n",
      "Data columns (total 4 columns):\n",
      "domain           object\n",
      "entropy          float64\n",
      "ideal_entropy    float64\n",
      "entropy_rnd      float64\n",
      "dtypes: float64(3), object(1)\n",
      "memory usage: 154.0+ MB\n"
     ]
    }
   ],
   "source": [
    "df_filtered.info()"
   ]
  },
  {
   "cell_type": "code",
   "execution_count": 10,
   "metadata": {
    "collapsed": false
   },
   "outputs": [
    {
     "name": "stdout",
     "output_type": "stream",
     "text": [
      "Number of IDNs: 13462\n"
     ]
    }
   ],
   "source": [
    "print('Number of IDNs: %s' % (df.shape[0] - df_filtered.shape[0]))"
   ]
  },
  {
   "cell_type": "code",
   "execution_count": 11,
   "metadata": {
    "collapsed": false
   },
   "outputs": [
    {
     "data": {
      "text/plain": [
       "-0.0"
      ]
     },
     "execution_count": 11,
     "metadata": {},
     "output_type": "execute_result"
    }
   ],
   "source": [
    "df_filtered['entropy'].min()"
   ]
  },
  {
   "cell_type": "code",
   "execution_count": 12,
   "metadata": {
    "collapsed": false
   },
   "outputs": [
    {
     "data": {
      "text/plain": [
       "4.7004397181400002"
      ]
     },
     "execution_count": 12,
     "metadata": {},
     "output_type": "execute_result"
    }
   ],
   "source": [
    "df_filtered['entropy'].max()"
   ]
  },
  {
   "cell_type": "code",
   "execution_count": 13,
   "metadata": {
    "collapsed": false,
    "scrolled": false
   },
   "outputs": [
    {
     "data": {
      "text/html": [
       "<div>\n",
       "<table border=\"1\" class=\"dataframe\">\n",
       "  <thead>\n",
       "    <tr style=\"text-align: right;\">\n",
       "      <th></th>\n",
       "      <th>domain</th>\n",
       "      <th>entropy</th>\n",
       "      <th>ideal_entropy</th>\n",
       "      <th>entropy_rnd</th>\n",
       "    </tr>\n",
       "  </thead>\n",
       "  <tbody>\n",
       "    <tr>\n",
       "      <th>481502</th>\n",
       "      <td>breederretriever.com</td>\n",
       "      <td>2.305037</td>\n",
       "      <td>4.000000</td>\n",
       "      <td>2.31</td>\n",
       "    </tr>\n",
       "    <tr>\n",
       "      <th>481503</th>\n",
       "      <td>toottoottoys.com.au</td>\n",
       "      <td>2.305037</td>\n",
       "      <td>4.000000</td>\n",
       "      <td>2.31</td>\n",
       "    </tr>\n",
       "    <tr>\n",
       "      <th>481504</th>\n",
       "      <td>lesfeestisseuses.com</td>\n",
       "      <td>2.305037</td>\n",
       "      <td>4.000000</td>\n",
       "      <td>2.31</td>\n",
       "    </tr>\n",
       "    <tr>\n",
       "      <th>481505</th>\n",
       "      <td>o31ngo31ngo31n.top</td>\n",
       "      <td>2.305958</td>\n",
       "      <td>3.807355</td>\n",
       "      <td>2.31</td>\n",
       "    </tr>\n",
       "    <tr>\n",
       "      <th>481506</th>\n",
       "      <td>gora-gora-gora.com</td>\n",
       "      <td>2.305958</td>\n",
       "      <td>3.807355</td>\n",
       "      <td>2.31</td>\n",
       "    </tr>\n",
       "    <tr>\n",
       "      <th>481507</th>\n",
       "      <td>line-line-line.com</td>\n",
       "      <td>2.305958</td>\n",
       "      <td>3.807355</td>\n",
       "      <td>2.31</td>\n",
       "    </tr>\n",
       "    <tr>\n",
       "      <th>481508</th>\n",
       "      <td>caesarscareers.jobs</td>\n",
       "      <td>2.305958</td>\n",
       "      <td>3.807355</td>\n",
       "      <td>2.31</td>\n",
       "    </tr>\n",
       "    <tr>\n",
       "      <th>481509</th>\n",
       "      <td>amor-amor-amor.com</td>\n",
       "      <td>2.305958</td>\n",
       "      <td>3.807355</td>\n",
       "      <td>2.31</td>\n",
       "    </tr>\n",
       "    <tr>\n",
       "      <th>481510</th>\n",
       "      <td>tori-tori-tori.com</td>\n",
       "      <td>2.305958</td>\n",
       "      <td>3.807355</td>\n",
       "      <td>2.31</td>\n",
       "    </tr>\n",
       "    <tr>\n",
       "      <th>481511</th>\n",
       "      <td>o31bgo31bgo31b.top</td>\n",
       "      <td>2.305958</td>\n",
       "      <td>3.807355</td>\n",
       "      <td>2.31</td>\n",
       "    </tr>\n",
       "  </tbody>\n",
       "</table>\n",
       "</div>"
      ],
      "text/plain": [
       "                      domain   entropy  ideal_entropy  entropy_rnd\n",
       "481502  breederretriever.com  2.305037       4.000000         2.31\n",
       "481503   toottoottoys.com.au  2.305037       4.000000         2.31\n",
       "481504  lesfeestisseuses.com  2.305037       4.000000         2.31\n",
       "481505    o31ngo31ngo31n.top  2.305958       3.807355         2.31\n",
       "481506    gora-gora-gora.com  2.305958       3.807355         2.31\n",
       "481507    line-line-line.com  2.305958       3.807355         2.31\n",
       "481508   caesarscareers.jobs  2.305958       3.807355         2.31\n",
       "481509    amor-amor-amor.com  2.305958       3.807355         2.31\n",
       "481510    tori-tori-tori.com  2.305958       3.807355         2.31\n",
       "481511    o31bgo31bgo31b.top  2.305958       3.807355         2.31"
      ]
     },
     "execution_count": 13,
     "metadata": {},
     "output_type": "execute_result"
    }
   ],
   "source": [
    "df_filtered[df_filtered['entropy'] > 2.3].head(10)"
   ]
  },
  {
   "cell_type": "code",
   "execution_count": 14,
   "metadata": {
    "collapsed": false
   },
   "outputs": [],
   "source": [
    "dist_df = df.groupby(['entropy_rnd'])['domain'].count()"
   ]
  },
  {
   "cell_type": "code",
   "execution_count": 15,
   "metadata": {
    "collapsed": false
   },
   "outputs": [
    {
     "data": {
      "text/plain": [
       "<matplotlib.collections.PathCollection at 0x7f5cda9e3518>"
      ]
     },
     "execution_count": 15,
     "metadata": {},
     "output_type": "execute_result"
    },
    {
     "data": {
      "image/png": "[encoded data removed]",
      "text/plain": [
       "<matplotlib.figure.Figure at 0x7f5ca69c0208>"
      ]
     },
     "metadata": {},
     "output_type": "display_data"
    }
   ],
   "source": [
    "X = dist_df.index\n",
    "Y = dist_df.values\n",
    "\n",
    "fig, ax = plt.subplots(figsize=(20, 12))\n",
    "plt.rcParams.update({'font.size': 18})\n",
    "ax.set_xlabel('Entropy Value')\n",
    "ax.set_ylabel('Number of Domains')\n",
    "ax.scatter(X, Y)"
   ]
  },
  {
   "cell_type": "code",
   "execution_count": 16,
   "metadata": {
    "collapsed": false
   },
   "outputs": [
    {
     "data": {
      "text/html": [
       "<div>\n",
       "<table border=\"1\" class=\"dataframe\">\n",
       "  <thead>\n",
       "    <tr style=\"text-align: right;\">\n",
       "      <th></th>\n",
       "      <th>domain</th>\n",
       "      <th>entropy</th>\n",
       "      <th>ideal_entropy</th>\n",
       "      <th>entropy_rnd</th>\n",
       "    </tr>\n",
       "  </thead>\n",
       "  <tbody>\n",
       "    <tr>\n",
       "      <th>4047850</th>\n",
       "      <td>afternoon-island-6275.herokuapp.com</td>\n",
       "      <td>4.235981</td>\n",
       "      <td>4.954196</td>\n",
       "      <td>4.24</td>\n",
       "    </tr>\n",
       "    <tr>\n",
       "      <th>4047746</th>\n",
       "      <td>weatherman-resources-17885.bitballoon.com</td>\n",
       "      <td>4.229327</td>\n",
       "      <td>5.209453</td>\n",
       "      <td>4.23</td>\n",
       "    </tr>\n",
       "    <tr>\n",
       "      <th>4048055</th>\n",
       "      <td>hypnotizedgirlsfan.tumblr.com</td>\n",
       "      <td>4.243856</td>\n",
       "      <td>4.643856</td>\n",
       "      <td>4.24</td>\n",
       "    </tr>\n",
       "    <tr>\n",
       "      <th>4049652</th>\n",
       "      <td>surgeon-jack-80562.netlify.com</td>\n",
       "      <td>4.469670</td>\n",
       "      <td>4.700440</td>\n",
       "      <td>4.47</td>\n",
       "    </tr>\n",
       "    <tr>\n",
       "      <th>4048719</th>\n",
       "      <td>rmetgarrpiouttmwqtuajcnzgesgozrihrzwmjlpxvcnmd...</td>\n",
       "      <td>4.294177</td>\n",
       "      <td>5.643856</td>\n",
       "      <td>4.29</td>\n",
       "    </tr>\n",
       "  </tbody>\n",
       "</table>\n",
       "</div>"
      ],
      "text/plain": [
       "                                                    domain   entropy  \\\n",
       "4047850                afternoon-island-6275.herokuapp.com  4.235981   \n",
       "4047746          weatherman-resources-17885.bitballoon.com  4.229327   \n",
       "4048055                      hypnotizedgirlsfan.tumblr.com  4.243856   \n",
       "4049652                     surgeon-jack-80562.netlify.com  4.469670   \n",
       "4048719  rmetgarrpiouttmwqtuajcnzgesgozrihrzwmjlpxvcnmd...  4.294177   \n",
       "\n",
       "         ideal_entropy  entropy_rnd  \n",
       "4047850       4.954196         4.24  \n",
       "4047746       5.209453         4.23  \n",
       "4048055       4.643856         4.24  \n",
       "4049652       4.700440         4.47  \n",
       "4048719       5.643856         4.29  "
      ]
     },
     "execution_count": 16,
     "metadata": {},
     "output_type": "execute_result"
    }
   ],
   "source": [
    "df_filtered[df_filtered['entropy'] > 4.2].sample(5)"
   ]
  },
  {
   "cell_type": "code",
   "execution_count": 17,
   "metadata": {
    "collapsed": false
   },
   "outputs": [
    {
     "data": {
      "text/html": [
       "<div>\n",
       "<table border=\"1\" class=\"dataframe\">\n",
       "  <thead>\n",
       "    <tr style=\"text-align: right;\">\n",
       "      <th></th>\n",
       "      <th>domain</th>\n",
       "      <th>entropy</th>\n",
       "      <th>ideal_entropy</th>\n",
       "      <th>entropy_rnd</th>\n",
       "    </tr>\n",
       "  </thead>\n",
       "  <tbody>\n",
       "    <tr>\n",
       "      <th>4009483</th>\n",
       "      <td>membrosafiliadosunidos.blogspot.com.br</td>\n",
       "      <td>3.900153</td>\n",
       "      <td>5.129283</td>\n",
       "      <td>3.9</td>\n",
       "    </tr>\n",
       "    <tr>\n",
       "      <th>4009484</th>\n",
       "      <td>josephsdailywalkwithjesus.wordpress.com</td>\n",
       "      <td>3.900153</td>\n",
       "      <td>5.129283</td>\n",
       "      <td>3.9</td>\n",
       "    </tr>\n",
       "    <tr>\n",
       "      <th>4009485</th>\n",
       "      <td>lesreceptesquemagraden.blogspot.com.es</td>\n",
       "      <td>3.900153</td>\n",
       "      <td>5.129283</td>\n",
       "      <td>3.9</td>\n",
       "    </tr>\n",
       "    <tr>\n",
       "      <th>4009486</th>\n",
       "      <td>trinity-audio-engineering.myshopify.com</td>\n",
       "      <td>3.900153</td>\n",
       "      <td>5.129283</td>\n",
       "      <td>3.9</td>\n",
       "    </tr>\n",
       "    <tr>\n",
       "      <th>4009487</th>\n",
       "      <td>personalizaciondeblogs.blogspot.com.br</td>\n",
       "      <td>3.900153</td>\n",
       "      <td>5.129283</td>\n",
       "      <td>3.9</td>\n",
       "    </tr>\n",
       "    <tr>\n",
       "      <th>4009488</th>\n",
       "      <td>compartilhando-adilson.blogspot.com.br</td>\n",
       "      <td>3.900153</td>\n",
       "      <td>5.129283</td>\n",
       "      <td>3.9</td>\n",
       "    </tr>\n",
       "    <tr>\n",
       "      <th>4009489</th>\n",
       "      <td>atividadesparamaternal.blogspot.com.br</td>\n",
       "      <td>3.900153</td>\n",
       "      <td>5.129283</td>\n",
       "      <td>3.9</td>\n",
       "    </tr>\n",
       "    <tr>\n",
       "      <th>4009490</th>\n",
       "      <td>personalizaciondeblogs.blogspot.com.es</td>\n",
       "      <td>3.900153</td>\n",
       "      <td>5.129283</td>\n",
       "      <td>3.9</td>\n",
       "    </tr>\n",
       "    <tr>\n",
       "      <th>4009491</th>\n",
       "      <td>elektrische-zigarettenstopfmaschine.com</td>\n",
       "      <td>3.900153</td>\n",
       "      <td>5.129283</td>\n",
       "      <td>3.9</td>\n",
       "    </tr>\n",
       "    <tr>\n",
       "      <th>4009492</th>\n",
       "      <td>thebigandsofisticatedforupdatingnew.bid</td>\n",
       "      <td>3.900153</td>\n",
       "      <td>5.129283</td>\n",
       "      <td>3.9</td>\n",
       "    </tr>\n",
       "  </tbody>\n",
       "</table>\n",
       "</div>"
      ],
      "text/plain": [
       "                                          domain   entropy  ideal_entropy  \\\n",
       "4009483   membrosafiliadosunidos.blogspot.com.br  3.900153       5.129283   \n",
       "4009484  josephsdailywalkwithjesus.wordpress.com  3.900153       5.129283   \n",
       "4009485   lesreceptesquemagraden.blogspot.com.es  3.900153       5.129283   \n",
       "4009486  trinity-audio-engineering.myshopify.com  3.900153       5.129283   \n",
       "4009487   personalizaciondeblogs.blogspot.com.br  3.900153       5.129283   \n",
       "4009488   compartilhando-adilson.blogspot.com.br  3.900153       5.129283   \n",
       "4009489   atividadesparamaternal.blogspot.com.br  3.900153       5.129283   \n",
       "4009490   personalizaciondeblogs.blogspot.com.es  3.900153       5.129283   \n",
       "4009491  elektrische-zigarettenstopfmaschine.com  3.900153       5.129283   \n",
       "4009492  thebigandsofisticatedforupdatingnew.bid  3.900153       5.129283   \n",
       "\n",
       "         entropy_rnd  \n",
       "4009483          3.9  \n",
       "4009484          3.9  \n",
       "4009485          3.9  \n",
       "4009486          3.9  \n",
       "4009487          3.9  \n",
       "4009488          3.9  \n",
       "4009489          3.9  \n",
       "4009490          3.9  \n",
       "4009491          3.9  \n",
       "4009492          3.9  "
      ]
     },
     "execution_count": 17,
     "metadata": {},
     "output_type": "execute_result"
    }
   ],
   "source": [
    "df_filtered[df_filtered['entropy'] > 3.9].head(10)"
   ]
  },
  {
   "cell_type": "code",
   "execution_count": null,
   "metadata": {
    "collapsed": true
   },
   "outputs": [],
   "source": []
  }
 ],
 "metadata": {
  "kernelspec": {
   "display_name": "Python 3",
   "language": "python",
   "name": "python3"
  },
  "language_info": {
   "codemirror_mode": {
    "name": "ipython",
    "version": 3
   },
   "file_extension": ".py",
   "mimetype": "text/x-python",
   "name": "python",
   "nbconvert_exporter": "python",
   "pygments_lexer": "ipython3",
   "version": "3.6.0"
  }
 },
 "nbformat": 4,
 "nbformat_minor": 2
}
