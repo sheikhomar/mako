{
 "cells": [
  {
   "cell_type": "markdown",
   "metadata": {},
   "source": [
    "# Correlations between DNS Records and Ranking"
   ]
  },
  {
   "cell_type": "code",
   "execution_count": 1,
   "metadata": {
    "collapsed": false
   },
   "outputs": [],
   "source": [
    "import numpy as np\n",
    "import pandas as pd\n",
    "import matplotlib.pyplot as plt\n",
    "import seaborn as sns\n",
    "import glob\n",
    "\n",
    "%matplotlib inline\n",
    "\n",
    "plt.style.use('seaborn-whitegrid')\n",
    "\n",
    "SMALL_SIZE = 14\n",
    "MEDIUM_SIZE = 18\n",
    "BIGGER_SIZE = 22\n",
    "\n",
    "plt.rc('font', size=SMALL_SIZE)          # controls default text sizes\n",
    "plt.rc('axes', titlesize=BIGGER_SIZE)     # fontsize of the axes title\n",
    "plt.rc('axes', labelsize=MEDIUM_SIZE)    # fontsize of the x and y labels\n",
    "plt.rc('xtick', labelsize=SMALL_SIZE)    # fontsize of the tick labels\n",
    "plt.rc('ytick', labelsize=SMALL_SIZE)    # fontsize of the tick labels\n",
    "plt.rc('legend', fontsize=MEDIUM_SIZE)   # legend fontsize\n",
    "plt.rc('figure', titlesize=BIGGER_SIZE)  # fontsize of the figure title"
   ]
  },
  {
   "cell_type": "code",
   "execution_count": 2,
   "metadata": {
    "collapsed": true
   },
   "outputs": [],
   "source": [
    "def create_dataframe(date_str):\n",
    "    paths = glob.glob('../data/external/openintel-alexa1m-ranking-%s/*.gz' % date_str)\n",
    "    column_names = ['domain', 'alexa_rank', 'records_count', 'SOA', 'NS', 'A', 'AAAA', 'CNAME', 'MX', 'TXT', 'SPF', 'PTR', 'DNSKEY', 'DS', 'RRSIG', 'CAA', 'NSEC']\n",
    "    dataframe = pd.concat((pd.read_csv(path, names=column_names) for path in paths))\n",
    "    return dataframe\n",
    "\n",
    "\n",
    "def visualise(date_str):\n",
    "    dataframe = create_dataframe(date_str)\n",
    "    plt.figure(figsize = (21,9))\n",
    "    ax = plt.axes()\n",
    "    ax.set_title('Correlation for %s' % date_str)\n",
    "    # Compute correlations for certain columns \n",
    "    corr_names = ['DNSKEY', 'DS', 'RRSIG', 'CAA', 'NSEC', 'SOA', 'NS', 'A', 'AAAA', 'CNAME', 'MX', 'TXT', 'SPF', 'PTR', 'alexa_rank']\n",
    "    sns.heatmap(dataframe[corr_names].corr(), annot=True, linewidths=1, ax = ax)"
   ]
  },
  {
   "cell_type": "code",
   "execution_count": 3,
   "metadata": {
    "collapsed": false
   },
   "outputs": [],
   "source": [
    "df = create_dataframe('2017-12-10')"
   ]
  },
  {
   "cell_type": "code",
   "execution_count": 4,
   "metadata": {
    "collapsed": false
   },
   "outputs": [
    {
     "data": {
      "text/html": [
       "<div>\n",
       "<table border=\"1\" class=\"dataframe\">\n",
       "  <thead>\n",
       "    <tr style=\"text-align: right;\">\n",
       "      <th></th>\n",
       "      <th>domain</th>\n",
       "      <th>alexa_rank</th>\n",
       "      <th>records_count</th>\n",
       "      <th>SOA</th>\n",
       "      <th>NS</th>\n",
       "      <th>A</th>\n",
       "      <th>AAAA</th>\n",
       "      <th>CNAME</th>\n",
       "      <th>MX</th>\n",
       "      <th>TXT</th>\n",
       "      <th>SPF</th>\n",
       "      <th>PTR</th>\n",
       "      <th>DNSKEY</th>\n",
       "      <th>DS</th>\n",
       "      <th>RRSIG</th>\n",
       "      <th>CAA</th>\n",
       "      <th>NSEC</th>\n",
       "    </tr>\n",
       "  </thead>\n",
       "  <tbody>\n",
       "    <tr>\n",
       "      <th>0</th>\n",
       "      <td>miloconcerthall.ru</td>\n",
       "      <td>922412</td>\n",
       "      <td>8</td>\n",
       "      <td>1</td>\n",
       "      <td>4</td>\n",
       "      <td>2</td>\n",
       "      <td>0</td>\n",
       "      <td>0</td>\n",
       "      <td>1</td>\n",
       "      <td>0</td>\n",
       "      <td>0</td>\n",
       "      <td>0</td>\n",
       "      <td>0</td>\n",
       "      <td>0</td>\n",
       "      <td>0</td>\n",
       "      <td>0</td>\n",
       "      <td>0</td>\n",
       "    </tr>\n",
       "    <tr>\n",
       "      <th>1</th>\n",
       "      <td>aurora-il.org</td>\n",
       "      <td>644425</td>\n",
       "      <td>19</td>\n",
       "      <td>1</td>\n",
       "      <td>2</td>\n",
       "      <td>7</td>\n",
       "      <td>6</td>\n",
       "      <td>1</td>\n",
       "      <td>1</td>\n",
       "      <td>1</td>\n",
       "      <td>0</td>\n",
       "      <td>0</td>\n",
       "      <td>0</td>\n",
       "      <td>0</td>\n",
       "      <td>2</td>\n",
       "      <td>0</td>\n",
       "      <td>0</td>\n",
       "    </tr>\n",
       "    <tr>\n",
       "      <th>2</th>\n",
       "      <td>montrealcollege.ca</td>\n",
       "      <td>748223</td>\n",
       "      <td>12</td>\n",
       "      <td>1</td>\n",
       "      <td>2</td>\n",
       "      <td>1</td>\n",
       "      <td>0</td>\n",
       "      <td>1</td>\n",
       "      <td>5</td>\n",
       "      <td>2</td>\n",
       "      <td>0</td>\n",
       "      <td>0</td>\n",
       "      <td>0</td>\n",
       "      <td>0</td>\n",
       "      <td>0</td>\n",
       "      <td>0</td>\n",
       "      <td>0</td>\n",
       "    </tr>\n",
       "    <tr>\n",
       "      <th>3</th>\n",
       "      <td>hobak3onwany.com</td>\n",
       "      <td>618762</td>\n",
       "      <td>12</td>\n",
       "      <td>1</td>\n",
       "      <td>2</td>\n",
       "      <td>4</td>\n",
       "      <td>4</td>\n",
       "      <td>0</td>\n",
       "      <td>1</td>\n",
       "      <td>0</td>\n",
       "      <td>0</td>\n",
       "      <td>0</td>\n",
       "      <td>0</td>\n",
       "      <td>0</td>\n",
       "      <td>0</td>\n",
       "      <td>0</td>\n",
       "      <td>0</td>\n",
       "    </tr>\n",
       "    <tr>\n",
       "      <th>4</th>\n",
       "      <td>oguzhanselvan.com</td>\n",
       "      <td>602127</td>\n",
       "      <td>7</td>\n",
       "      <td>1</td>\n",
       "      <td>2</td>\n",
       "      <td>1</td>\n",
       "      <td>0</td>\n",
       "      <td>1</td>\n",
       "      <td>1</td>\n",
       "      <td>1</td>\n",
       "      <td>0</td>\n",
       "      <td>0</td>\n",
       "      <td>0</td>\n",
       "      <td>0</td>\n",
       "      <td>0</td>\n",
       "      <td>0</td>\n",
       "      <td>0</td>\n",
       "    </tr>\n",
       "  </tbody>\n",
       "</table>\n",
       "</div>"
      ],
      "text/plain": [
       "               domain  alexa_rank  records_count  SOA  NS  A  AAAA  CNAME  MX  \\\n",
       "0  miloconcerthall.ru      922412              8    1   4  2     0      0   1   \n",
       "1       aurora-il.org      644425             19    1   2  7     6      1   1   \n",
       "2  montrealcollege.ca      748223             12    1   2  1     0      1   5   \n",
       "3    hobak3onwany.com      618762             12    1   2  4     4      0   1   \n",
       "4   oguzhanselvan.com      602127              7    1   2  1     0      1   1   \n",
       "\n",
       "   TXT  SPF  PTR  DNSKEY  DS  RRSIG  CAA  NSEC  \n",
       "0    0    0    0       0   0      0    0     0  \n",
       "1    1    0    0       0   0      2    0     0  \n",
       "2    2    0    0       0   0      0    0     0  \n",
       "3    0    0    0       0   0      0    0     0  \n",
       "4    1    0    0       0   0      0    0     0  "
      ]
     },
     "execution_count": 4,
     "metadata": {},
     "output_type": "execute_result"
    }
   ],
   "source": [
    "df.head()"
   ]
  },
  {
   "cell_type": "code",
   "execution_count": null,
   "metadata": {
    "collapsed": false
   },
   "outputs": [],
   "source": [
    "days = ['2016-11-01', '2016-12-15', '2017-02-17', '2017-12-10']"
   ]
  },
  {
   "cell_type": "code",
   "execution_count": null,
   "metadata": {
    "collapsed": false
   },
   "outputs": [],
   "source": [
    "visualise(days[0])"
   ]
  },
  {
   "cell_type": "code",
   "execution_count": null,
   "metadata": {
    "collapsed": false
   },
   "outputs": [],
   "source": [
    "visualise(days[1])"
   ]
  },
  {
   "cell_type": "code",
   "execution_count": null,
   "metadata": {
    "collapsed": false
   },
   "outputs": [],
   "source": [
    "visualise(days[2])"
   ]
  },
  {
   "cell_type": "code",
   "execution_count": null,
   "metadata": {
    "collapsed": false
   },
   "outputs": [],
   "source": [
    "visualise(days[3])"
   ]
  }
 ],
 "metadata": {
  "kernelspec": {
   "display_name": "Python 3",
   "language": "python",
   "name": "python3"
  },
  "language_info": {
   "codemirror_mode": {
    "name": "ipython",
    "version": 3
   },
   "file_extension": ".py",
   "mimetype": "text/x-python",
   "name": "python",
   "nbconvert_exporter": "python",
   "pygments_lexer": "ipython3",
   "version": "3.6.0"
  }
 },
 "nbformat": 4,
 "nbformat_minor": 2
}
